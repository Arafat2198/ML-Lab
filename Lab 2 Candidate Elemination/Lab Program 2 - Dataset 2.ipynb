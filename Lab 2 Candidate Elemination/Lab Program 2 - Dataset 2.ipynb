{
 "cells": [
  {
   "cell_type": "code",
   "execution_count": 2,
   "metadata": {},
   "outputs": [
    {
     "name": "stdout",
     "output_type": "stream",
     "text": [
      "Our Concepts Data\n",
      "[['Germany' 'Volkswagen' 'blue' 2017 'Golf R']\n",
      " ['Germany' 'BMW' 'black' 2018 'X7']\n",
      " ['USA' 'Ford' 'red' 2019 'Mustang GT']\n",
      " ['Japan' 'Toyota' 'silver' 2017 'Camry']\n",
      " ['Germany' 'Volkswagen' 'grey' 2013 'Toureg']]\n",
      "\n",
      "Our Target Data\n",
      "['Y' 'Y' 'N' 'N' 'Y']\n"
     ]
    }
   ],
   "source": [
    "import numpy as np\n",
    "import pandas as pd\n",
    "data = pd.DataFrame(data=pd.read_csv('Car_Dataset.csv'))\n",
    "print(\"Our Concepts Data\")\n",
    "concepts = np.array(data.iloc[:,0:-1])\n",
    "print(concepts)\n",
    "target = np.array(data.iloc[:,-1])\n",
    "print(\"\\nOur Target Data\")\n",
    "print(target)"
   ]
  },
  {
   "cell_type": "code",
   "execution_count": 3,
   "metadata": {},
   "outputs": [
    {
     "name": "stdout",
     "output_type": "stream",
     "text": [
      "\n",
      "Initialization of Specific Hypothesis and General Hypothesis\n",
      "['Germany' 'Volkswagen' 'blue' 2017 'Golf R']\n",
      "[['?', '?', '?', '?', '?'], ['?', '?', '?', '?', '?'], ['?', '?', '?', '?', '?'], ['?', '?', '?', '?', '?'], ['?', '?', '?', '?', '?']]\n",
      "['Germany' 'Volkswagen' 'blue' 2017 'Golf R']\n",
      " steps of Candidate Elimination Algorithm 1\n",
      "['Germany' 'Volkswagen' 'blue' 2017 'Golf R']\n",
      "[['?', '?', '?', '?', '?'], ['?', '?', '?', '?', '?'], ['?', '?', '?', '?', '?'], ['?', '?', '?', '?', '?'], ['?', '?', '?', '?', '?']]\n",
      "['Germany' 'Volkswagen' 'blue' 2017 'Golf R']\n",
      " steps of Candidate Elimination Algorithm 2\n",
      "['Germany' 'Volkswagen' 'blue' 2017 'Golf R']\n",
      "[['?', '?', '?', '?', '?'], ['?', '?', '?', '?', '?'], ['?', '?', '?', '?', '?'], ['?', '?', '?', '?', '?'], ['?', '?', '?', '?', '?']]\n",
      "['Germany' 'Volkswagen' 'blue' 2017 'Golf R']\n",
      " steps of Candidate Elimination Algorithm 3\n",
      "['Germany' 'Volkswagen' 'blue' 2017 'Golf R']\n",
      "[['?', '?', '?', '?', '?'], ['?', '?', '?', '?', '?'], ['?', '?', '?', '?', '?'], ['?', '?', '?', '?', '?'], ['?', '?', '?', '?', '?']]\n",
      "['Germany' 'Volkswagen' 'blue' 2017 'Golf R']\n",
      " steps of Candidate Elimination Algorithm 4\n",
      "['Germany' 'Volkswagen' 'blue' 2017 'Golf R']\n",
      "[['?', '?', '?', '?', '?'], ['?', '?', '?', '?', '?'], ['?', '?', '?', '?', '?'], ['?', '?', '?', '?', '?'], ['?', '?', '?', '?', '?']]\n",
      "['Germany' 'Volkswagen' 'blue' 2017 'Golf R']\n",
      " steps of Candidate Elimination Algorithm 5\n",
      "['Germany' 'Volkswagen' 'blue' 2017 'Golf R']\n",
      "[['?', '?', '?', '?', '?'], ['?', '?', '?', '?', '?'], ['?', '?', '?', '?', '?'], ['?', '?', '?', '?', '?'], ['?', '?', '?', '?', '?']]\n"
     ]
    }
   ],
   "source": [
    "def learn(concepts, target):\n",
    "    specific_h = concepts[0].copy()\n",
    "    print(\"\\nInitialization of Specific Hypothesis and General Hypothesis\")\n",
    "    print(specific_h)\n",
    "    general_h = [[\"?\" for i in range(len(specific_h))]\n",
    "                 \n",
    "for i in range(len(specific_h))]\n",
    "    print(general_h)\n",
    "    for i, h in enumerate(concepts):\n",
    "        if target[i] == \"yes\":\n",
    "            for x in range(len(specific_h)):\n",
    "                if h[x]!= specific_h[x]:\n",
    "                    specific_h[x] ='?'\n",
    "                    general_h[x][x] ='?'\n",
    "                print(specific_h)\n",
    "        print(specific_h)\n",
    "        if target[i] == \"no\":\n",
    "            for x in range(len(specific_h)):\n",
    "                if h[x]!= specific_h[x]:\n",
    "                    general_h[x][x] = specific_h[x]\n",
    "                else:\n",
    "                    general_h[x][x] = '?'\n",
    "        print(\" steps of Candidate Elimination Algorithm\",i+1)\n",
    "        print(specific_h)\n",
    "        print(general_h)\n",
    "    indices = [i for i, val in enumerate(general_h) if val == ['?', '?', '?', '?', '?', '?']]\n",
    "    for i in indices:\n",
    "        general_h.remove(['?', '?', '?', '?', '?', '?'])\n",
    "    return specific_h, general_h\n",
    "s_final, g_final = learn(concepts, target)\n"
   ]
  },
  {
   "cell_type": "code",
   "execution_count": 4,
   "metadata": {},
   "outputs": [
    {
     "name": "stdout",
     "output_type": "stream",
     "text": [
      "Final Specific Hypothesis:\n",
      "['Germany' 'Volkswagen' 'blue' 2017 'Golf R']\n",
      "Final General Hypothesis:\n",
      "[['?', '?', '?', '?', '?'], ['?', '?', '?', '?', '?'], ['?', '?', '?', '?', '?'], ['?', '?', '?', '?', '?'], ['?', '?', '?', '?', '?']]\n"
     ]
    }
   ],
   "source": [
    "print(\"Final Specific Hypothesis:\", s_final, sep=\"\\n\")\n",
    "print(\"Final General Hypothesis:\", g_final, sep=\"\\n\")"
   ]
  }
 ],
 "metadata": {
  "kernelspec": {
   "display_name": "Python 3",
   "language": "python",
   "name": "python3"
  },
  "language_info": {
   "codemirror_mode": {
    "name": "ipython",
    "version": 3
   },
   "file_extension": ".py",
   "mimetype": "text/x-python",
   "name": "python",
   "nbconvert_exporter": "python",
   "pygments_lexer": "ipython3",
   "version": "3.8.3"
  }
 },
 "nbformat": 4,
 "nbformat_minor": 4
}
