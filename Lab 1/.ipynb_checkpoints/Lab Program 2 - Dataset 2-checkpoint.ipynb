{
 "cells": [
  {
   "cell_type": "code",
   "execution_count": 1,
   "metadata": {},
   "outputs": [
    {
     "name": "stdout",
     "output_type": "stream",
     "text": [
      "[['Origin', 'Manufacturer', 'color', 'year', 'model', 'german_made'], ['Germany', 'Volkswagen', 'blue', '2017', 'Golf R', 'Y'], ['Germany', 'BMW', 'black', '2018', 'X7', 'Y'], ['USA', 'Ford', 'red', '2019', 'Mustang GT', 'N'], ['Japan', 'Toyota', 'silver', '2017', 'Camry', 'N'], ['Germany', 'Volkswagen', 'grey', '2013', 'Toureg', 'Y']]\n",
      "\n",
      " The total number of training instances are :  5\n",
      "\n",
      " The initial hypothesis is : \n",
      "['0', '0', '0', '0', '0']\n",
      "\n",
      " The hypothesis for the training instance 2 is :\n",
      " ['Germany', 'Volkswagen', 'blue', '2017', 'Golf R']\n",
      "\n",
      " The hypothesis for the training instance 3 is :\n",
      " ['Germany', '?', '?', '?', '?']\n",
      "\n",
      " The hypothesis for the training instance 4 is :\n",
      " ['Germany', '?', '?', '?', '?']\n",
      "\n",
      " The hypothesis for the training instance 5 is :\n",
      " ['Germany', '?', '?', '?', '?']\n",
      "\n",
      " The hypothesis for the training instance 6 is :\n",
      " ['Germany', '?', '?', '?', '?']\n",
      "\n",
      " The Maximally specific hypothesis for the training instance is \n",
      "['Germany', '?', '?', '?', '?']\n"
     ]
    }
   ],
   "source": [
    "import csv\n",
    "a = []\n",
    "with open('Car_Dataset.csv', 'r') as csvfile:\n",
    "    for row in csv.reader(csvfile):\n",
    "        a.append(row)\n",
    "    print(a)\n",
    "print(\"\\n The total number of training instances are : \",len(a)-1)\n",
    "num_attribute = len(a[0])-1\n",
    "print(\"\\n The initial hypothesis is : \")\n",
    "hypothesis = ['0']*num_attribute\n",
    "print(hypothesis)\n",
    "for i in range(1, len(a)):\n",
    "    if a[i][num_attribute] == 'Y':\n",
    "        for j in range(0, num_attribute):\n",
    "            if hypothesis[j] == '0' or hypothesis[j] == a[i][j]:\n",
    "                hypothesis[j] = a[i][j]\n",
    "            else:\n",
    "                hypothesis[j] = '?'\n",
    "    print(\"\\n The hypothesis for the training instance {} is :\\n\".format(i+1),hypothesis)\n",
    "    \n",
    "print(\"\\n The Maximally specific hypothesis for the training instance is \")\n",
    "print(hypothesis)"
   ]
  },
  {
   "cell_type": "code",
   "execution_count": null,
   "metadata": {},
   "outputs": [],
   "source": []
  }
 ],
 "metadata": {
  "kernelspec": {
   "display_name": "Python 3",
   "language": "python",
   "name": "python3"
  },
  "language_info": {
   "codemirror_mode": {
    "name": "ipython",
    "version": 3
   },
   "file_extension": ".py",
   "mimetype": "text/x-python",
   "name": "python",
   "nbconvert_exporter": "python",
   "pygments_lexer": "ipython3",
   "version": "3.8.3"
  }
 },
 "nbformat": 4,
 "nbformat_minor": 4
}
